{
  "nbformat": 4,
  "nbformat_minor": 0,
  "metadata": {
    "colab": {
      "provenance": []
    },
    "kernelspec": {
      "name": "python3",
      "display_name": "Python 3"
    },
    "language_info": {
      "name": "python"
    },
    "gpuClass": "standard"
  },
  "cells": [
    {
      "cell_type": "code",
      "source": [
        "a=float(input('Enter the first number       '))\n",
        "b=float(input('Enter the second number      '))\n",
        "c=input(\"Select operation '+','-','*','/','%'    \")\n",
        "if (c=='+'):\n",
        "    print (a+b)\n",
        "elif (c=='-'):\n",
        "    print (a-b)\n",
        "elif(c=='*'):\n",
        "    print(a*b)\n",
        "elif(c=='/'):\n",
        "    print(a/b)\n",
        "else:\n",
        "    print(\"Invalid operation!\")    \n",
        "\n",
        "   \n",
        "\n",
        "\n"
      ],
      "metadata": {
        "id": "yNN-931SS0_t",
        "colab": {
          "base_uri": "https://localhost:8080/"
        },
        "outputId": "dfd9b436-ddea-49bb-b78a-504eba235f38"
      },
      "execution_count": 4,
      "outputs": [
        {
          "output_type": "stream",
          "name": "stdout",
          "text": [
            "Enter the first number       7\n",
            "Enter the second number      8\n",
            "Select operation '+','-','*','/','%'    +\n",
            "15.0\n"
          ]
        }
      ]
    }
  ]
}