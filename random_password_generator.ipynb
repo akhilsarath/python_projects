{
  "nbformat": 4,
  "nbformat_minor": 0,
  "metadata": {
    "colab": {
      "provenance": []
    },
    "kernelspec": {
      "name": "python3",
      "display_name": "Python 3"
    },
    "language_info": {
      "name": "python"
    }
  },
  "cells": [
    {
      "cell_type": "code",
      "execution_count": null,
      "metadata": {
        "id": "6WXaN5iP7im9"
      },
      "outputs": [],
      "source": [
        "import random\n",
        "import string\n",
        "length=int(input(\"enter the length of password    \"))\n",
        "password=''.join(random.choice(string.printable)for i in range(length))\n",
        "\n",
        "print(password)"
      ]
    }
  ]
}