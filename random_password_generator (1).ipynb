{
  "nbformat": 4,
  "nbformat_minor": 0,
  "metadata": {
    "colab": {
      "provenance": []
    },
    "kernelspec": {
      "name": "python3",
      "display_name": "Python 3"
    },
    "language_info": {
      "name": "python"
    }
  },
  "cells": [
    {
      "cell_type": "code",
      "execution_count": 16,
      "metadata": {
        "colab": {
          "base_uri": "https://localhost:8080/"
        },
        "id": "6WXaN5iP7im9",
        "outputId": "8d6f36a3-0e54-4cb2-ad4e-9cbc210160e8"
      },
      "outputs": [
        {
          "output_type": "stream",
          "name": "stdout",
          "text": [
            "enter the length of password:    8\n",
            "2VPHQ\\\"B\n"
          ]
        }
      ],
      "source": [
        "import random\n",
        "import string\n",
        "length=int(input(\"enter the length of password:    \"))\n",
        "password=''.join(random.choice(string.printable)for i in range(length))\n",
        "print(password)"
      ]
    }
  ]
}