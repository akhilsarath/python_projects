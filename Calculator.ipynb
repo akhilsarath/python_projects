{
  "nbformat": 4,
  "nbformat_minor": 0,
  "metadata": {
    "colab": {
      "provenance": [],
      "authorship_tag": "ABX9TyPLuHR/ZdfG8fE2p+04K+mG",
      "include_colab_link": true
    },
    "kernelspec": {
      "name": "python3",
      "display_name": "Python 3"
    },
    "language_info": {
      "name": "python"
    },
    "gpuClass": "standard"
  },
  "cells": [
    {
      "cell_type": "markdown",
      "metadata": {
        "id": "view-in-github",
        "colab_type": "text"
      },
      "source": [
        "<a href=\"https://colab.research.google.com/github/akhilsarath/python_projects/blob/main/Calculator.ipynb\" target=\"_parent\"><img src=\"https://colab.research.google.com/assets/colab-badge.svg\" alt=\"Open In Colab\"/></a>"
      ]
    },
    {
      "cell_type": "code",
      "source": [
        "a=float(input('Enter the first number       '))\n",
        "b=float(input('Enter the second number      '))\n",
        "c=input(\"Select operation '+','-','*','/','%'    \")\n",
        "if (c=='+'):\n",
        "    print (a+b)\n",
        "elif (c=='-'):\n",
        "    print (a-b)\n",
        "elif(c=='*'):\n",
        "    print(a*b)\n",
        "elif(c=='/'):\n",
        "    print(a/b)\n",
        "   \n",
        "\n",
        "\n"
      ],
      "metadata": {
        "id": "yNN-931SS0_t"
      },
      "execution_count": null,
      "outputs": []
    }
  ]
}