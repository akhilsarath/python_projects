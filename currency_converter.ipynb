{
  "nbformat": 4,
  "nbformat_minor": 0,
  "metadata": {
    "colab": {
      "provenance": []
    },
    "kernelspec": {
      "name": "python3",
      "display_name": "Python 3"
    },
    "language_info": {
      "name": "python"
    }
  },
  "cells": [
    {
      "cell_type": "code",
      "execution_count": 1,
      "metadata": {
        "colab": {
          "base_uri": "https://localhost:8080/"
        },
        "id": "qPwSw7D4ejbr",
        "outputId": "e71fd5f4-dd65-4304-954a-32a087199978"
      },
      "outputs": [
        {
          "output_type": "stream",
          "name": "stdout",
          "text": [
            "Looking in indexes: https://pypi.org/simple, https://us-python.pkg.dev/colab-wheels/public/simple/\n",
            "Collecting forex-python\n",
            "  Downloading forex_python-1.8-py3-none-any.whl (8.2 kB)\n",
            "Collecting simplejson\n",
            "  Downloading simplejson-3.18.1-cp38-cp38-manylinux_2_5_x86_64.manylinux1_x86_64.manylinux_2_17_x86_64.manylinux2014_x86_64.whl (135 kB)\n",
            "\u001b[2K     \u001b[90m━━━━━━━━━━━━━━━━━━━━━━━━━━━━━━━━━━━━━━━\u001b[0m \u001b[32m135.5/135.5 KB\u001b[0m \u001b[31m5.2 MB/s\u001b[0m eta \u001b[36m0:00:00\u001b[0m\n",
            "\u001b[?25hRequirement already satisfied: requests in /usr/local/lib/python3.8/dist-packages (from forex-python) (2.25.1)\n",
            "Requirement already satisfied: certifi>=2017.4.17 in /usr/local/lib/python3.8/dist-packages (from requests->forex-python) (2022.12.7)\n",
            "Requirement already satisfied: idna<3,>=2.5 in /usr/local/lib/python3.8/dist-packages (from requests->forex-python) (2.10)\n",
            "Requirement already satisfied: chardet<5,>=3.0.2 in /usr/local/lib/python3.8/dist-packages (from requests->forex-python) (4.0.0)\n",
            "Requirement already satisfied: urllib3<1.27,>=1.21.1 in /usr/local/lib/python3.8/dist-packages (from requests->forex-python) (1.24.3)\n",
            "Installing collected packages: simplejson, forex-python\n",
            "Successfully installed forex-python-1.8 simplejson-3.18.1\n",
            "Choose the type of currency that you want to convert: USD\n",
            "Enter the amount of Dollars: 50\n",
            "₹ 4144.594594594594\n"
          ]
        }
      ],
      "source": [
        "!pip install forex-python\n",
        "from forex_python.converter import CurrencyRates\n",
        "\n",
        "currency = input(\"Choose the type of currency that you want to convert: \")\n",
        "\n",
        "if currency == \"INR\":\n",
        "   currency = CurrencyRates()\n",
        "   exchange_rate = currency.get_rate('INR', 'USD')\n",
        "   rupees = float(input(\"Enter the amount of Rupees: \"))\n",
        "   dollars = rupees * exchange_rate\n",
        "  \n",
        "   print(\"$\", dollars)\n",
        "\n",
        "\n",
        "elif currency==\"USD\":\n",
        "  currency = CurrencyRates()\n",
        "  exchange_rate = currency.get_rate('USD', 'INR')\n",
        "  dollars = float(input(\"Enter the amount of Dollars: \"))\n",
        "  rupees = dollars * exchange_rate\n",
        "  \n",
        "  print(\"₹\", rupees)\n",
        "\n",
        "else:\n",
        "  print(\"Invalid option Try again!!!\")"
      ]
    }
  ]
}