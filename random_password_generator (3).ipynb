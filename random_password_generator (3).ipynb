{
  "nbformat": 4,
  "nbformat_minor": 0,
  "metadata": {
    "colab": {
      "provenance": []
    },
    "kernelspec": {
      "name": "python3",
      "display_name": "Python 3"
    },
    "language_info": {
      "name": "python"
    }
  },
  "cells": [
    {
      "cell_type": "code",
      "source": [
        "import random\n",
        "import string\n",
        "bad_chars = [';', ':', '^', \"*\", ',', '.', '[', ']', '`', '(', ')', '{', '}', '|', '\"', \"'\", '~', ' ', '=', '/', \"\\\\\",]\n",
        "test_string = string.printable\n",
        "test_string = ''.join((filter(lambda i: i not in bad_chars, test_string)))\n",
        "length=int(input(\"enter the length of password:    \"))\n",
        "password=''.join(random.choice(test_string)for i in range(length))\n",
        "print(password)"
      ],
      "metadata": {
        "colab": {
          "base_uri": "https://localhost:8080/"
        },
        "id": "9A6PjRkSRHLU",
        "outputId": "ae8d93ce-c736-4a22-ca3c-71f8b5a98ca4"
      },
      "execution_count": 49,
      "outputs": [
        {
          "output_type": "stream",
          "name": "stdout",
          "text": [
            "enter the length of password:    8\n",
            "y&0Xyde4\n"
          ]
        }
      ]
    }
  ]
}