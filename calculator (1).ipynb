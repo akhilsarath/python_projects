{
  "nbformat": 4,
  "nbformat_minor": 0,
  "metadata": {
    "colab": {
      "provenance": []
    },
    "kernelspec": {
      "name": "python3",
      "display_name": "Python 3"
    },
    "language_info": {
      "name": "python"
    },
    "gpuClass": "standard"
  },
  "cells": [
    {
      "cell_type": "code",
      "source": [
        "a=float(input('Enter the first number       '))\n",
        "b=float(input('Enter the second number      '))\n",
        "c=input(\"Select operation '+','-','*','/',    \")\n",
        "if (c=='+'):\n",
        "    print (a+b)\n",
        "elif (c=='-'):\n",
        "    print (a-b)\n",
        "elif(c=='*'):\n",
        "    print(a*b)\n",
        "elif(c=='/'):\n",
        "    print(a/b)\n",
        "else:\n",
        "    print(\"Invalid operation!\")    \n",
        "\n",
        "   \n",
        "\n",
        "\n"
      ],
      "metadata": {
        "id": "yNN-931SS0_t",
        "colab": {
          "base_uri": "https://localhost:8080/"
        },
        "outputId": "82271535-baf0-4559-faa3-5b94f6095b9d"
      },
      "execution_count": 7,
      "outputs": [
        {
          "output_type": "stream",
          "name": "stdout",
          "text": [
            "Enter the first number       89777\n",
            "Enter the second number      777\n",
            "Select operation '+','-','*','/',    /\n",
            "115.54311454311454\n"
          ]
        }
      ]
    }
  ]
}