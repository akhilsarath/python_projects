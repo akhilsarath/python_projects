{
  "nbformat": 4,
  "nbformat_minor": 0,
  "metadata": {
    "colab": {
      "provenance": []
    },
    "kernelspec": {
      "name": "python3",
      "display_name": "Python 3"
    },
    "language_info": {
      "name": "python"
    }
  },
  "cells": [
    {
      "cell_type": "code",
      "source": [
        "import random\n",
        "import string\n",
        "remove_chars = [';', ':', '^', \"*\", ',', '.', '[', ']', '`', '(', ')', '{', '}', '|', '\"', \"'\", '~', '', '=',  ]\n",
        "test_string = string.printable\n",
        "test_string = ''.join((filter(lambda i: i not in remove_chars,\ttest_string)))\n",
        "length=int(input(\"enter the length of password:    \"))\n",
        "password=''.join(random.choice(test_string)for i in range(length))\n",
        "print(password)"
      ],
      "metadata": {
        "colab": {
          "base_uri": "https://localhost:8080/"
        },
        "id": "IV4K11KOG3TU",
        "outputId": "74549bc6-bfad-4f94-896e-0a7972c4fe4a"
      },
      "execution_count": 45,
      "outputs": [
        {
          "output_type": "stream",
          "name": "stdout",
          "text": [
            "enter the length of password:    8\n",
            "WR8g$J9K\n"
          ]
        }
      ]
    }
  ]
}