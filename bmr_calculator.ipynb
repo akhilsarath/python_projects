{
  "nbformat": 4,
  "nbformat_minor": 0,
  "metadata": {
    "colab": {
      "provenance": []
    },
    "kernelspec": {
      "name": "python3",
      "display_name": "Python 3"
    },
    "language_info": {
      "name": "python"
    }
  },
  "cells": [
    {
      "cell_type": "code",
      "execution_count": 1,
      "metadata": {
        "colab": {
          "base_uri": "https://localhost:8080/"
        },
        "id": "gMMJMXD5di4U",
        "outputId": "7dacfbe1-b6a5-4a24-cbee-03741455eddc"
      },
      "outputs": [
        {
          "output_type": "stream",
          "name": "stdout",
          "text": [
            "enter your age  10\n",
            "enter your height in cm  110\n",
            "enter your weight in kg  32\n",
            "enter your gender  male\n",
            "986.4000000000001\n"
          ]
        }
      ],
      "source": [
        "age=int(input(\"enter your age  \"))\n",
        "height=float(input(\"enter your height in cm  \"))\n",
        "weight=float(input(\"enter your weight in kg  \"))\n",
        "gender=str(input(\"enter your gender  \"))\n",
        "bmrm=66 + (13.7 * weight) + (5 * height ) - (6.8 * age)\n",
        "bmrf=655 + (9.6 * weight ) + (1.8 * height ) - (4.7 * age )\n",
        "if gender=='male':\n",
        "    print(bmrm)\n",
        "elif gender=='female':\n",
        "    print(bmrf)\n",
        "else:\n",
        "    print(\"please mention your gender from either male or female\")"
      ]
    }
  ]
}