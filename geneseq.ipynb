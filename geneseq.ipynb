{
  "nbformat": 4,
  "nbformat_minor": 0,
  "metadata": {
    "colab": {
      "provenance": []
    },
    "kernelspec": {
      "name": "python3",
      "display_name": "Python 3"
    },
    "language_info": {
      "name": "python"
    }
  },
  "cells": [
    {
      "cell_type": "code",
      "source": [
        "import random\n",
        "lower=\"abcdefghijklmnopqrstuvwxyz\"\n",
        "upper=\"ABCDEFGHIJKLMNOPQRSTUVWXYZ\"\n",
        "symbols=\"~!@#$%&*-_+=;:/?<>\"\n",
        "numbers=\"1234567890\"\n",
        "\n",
        "string=lower+upper+numbers+symbols\n",
        "length=int(input(\"enter the length of password    \"))\n",
        "password=\" \".join(random.sample(string,length))\n",
        "print(\"your password:\",password)"
      ],
      "metadata": {
        "colab": {
          "base_uri": "https://localhost:8080/"
        },
        "id": "lwEWZhhcj39P",
        "outputId": "7cffb326-5aa1-448a-fe4d-ec66b269845b"
      },
      "execution_count": null,
      "outputs": [
        {
          "output_type": "stream",
          "name": "stdout",
          "text": [
            "enter the length of password    6\n",
            "your password: K v / j s W\n"
          ]
        }
      ]
    },
    {
      "cell_type": "code",
      "source": [
        "import random\n",
        "import string\n",
        "\n",
        "def generate_captcha(length):\n",
        "  # Generate a random string of letters and digits\n",
        "  captcha = ''.join(random.choices(string.ascii_letters + string.digits, k=length))\n",
        "  return captcha\n",
        "\n",
        "captcha = generate_captcha(6)\n",
        "print(captcha)\n"
      ],
      "metadata": {
        "colab": {
          "base_uri": "https://localhost:8080/"
        },
        "id": "102a1pD-2QVY",
        "outputId": "0effd23e-2cfa-44c6-837f-fe59bad3eb2e"
      },
      "execution_count": null,
      "outputs": [
        {
          "output_type": "stream",
          "name": "stdout",
          "text": [
            "LYB15c\n"
          ]
        }
      ]
    },
    {
      "cell_type": "code",
      "source": [
        "import requests\n",
        "\n",
        "# Make a request to the API to get the current exchange rate\n",
        "response = requests.get(\"https://api.exchangerate-api.com/v4/latest/INR\")\n",
        "\n",
        "# Get the exchange rate from the response\n",
        "exchange_rate = response.json()['rates']['USD']\n",
        "\n",
        "# Get the amount of rupees from the user\n",
        "rupees = float(input(\"Enter the amount of rupees: \"))\n",
        "\n",
        "# Convert the rupees to dollars\n",
        "dollars = rupees * exchange_rate\n",
        "\n",
        "# Print the result\n",
        "print(f\"{rupees} rupees is equal to {dollars} dollars.\")\n"
      ],
      "metadata": {
        "colab": {
          "base_uri": "https://localhost:8080/"
        },
        "id": "yvR_z07VAlYT",
        "outputId": "61637e6b-0c53-4035-cae8-f041db06b4a0"
      },
      "execution_count": 13,
      "outputs": [
        {
          "output_type": "stream",
          "name": "stdout",
          "text": [
            "Enter the amount of rupees: 35000\n",
            "35000.0 rupees is equal to 423.5 dollars.\n"
          ]
        }
      ]
    },
    {
      "cell_type": "code",
      "source": [
        "sequence=str(input(\"enter the sequence\"))\n",
        "split(sequence,3)\n",
        "list=['UUU','UUC','UUA','UUG','UCU','UCC','UCA','UCG','UAU','UAC','UAA','UAG','UGU','UGC','UGA','UGG','CUU','CUC','CUA','CUG','CCU','CCC',\n",
        "      'CCA','CCG','CAU','CAC','CAA','CAG','CGU','CGC','CGA','CGG','AUU','AUC','AUA','AUG','ACU','ACC','ACA','ACG','AAU','AAC','AAA','AAG',\n",
        "      'AGU','AGC','AGA','AGG','GUU','GUC','GUA','GUG','GCU','GCC','GCA','GCG','GAU','GAC','GAA','GAG','GGU','GGC','GGA','GGG']\n",
        "\n",
        "\n"
      ],
      "metadata": {
        "id": "yPQstZpAdRfF"
      },
      "execution_count": null,
      "outputs": []
    },
    {
      "cell_type": "code",
      "source": [
        "sequence=input(\"enter the sequence:  \")\n",
        "seq=split(sequence, 3)\n",
        "print(seq)\n",
        "code=input(\"enter the code:  \")\n",
        "count=sequence.count(code)\n",
        "print(count)"
      ],
      "metadata": {
        "colab": {
          "base_uri": "https://localhost:8080/",
          "height": 253
        },
        "id": "qY61nLux1QuT",
        "outputId": "a72a5547-bfe5-4e55-966a-f25bd7428016"
      },
      "execution_count": 63,
      "outputs": [
        {
          "name": "stdout",
          "output_type": "stream",
          "text": [
            "enter the sequence:   GTAGGAATCGCAGCGCCAGCGGTTGCAAGGCCCAAGAAGCCCATCCTGGGAAGGAAAATGCATTGGGGAA\n"
          ]
        },
        {
          "output_type": "error",
          "ename": "NameError",
          "evalue": "ignored",
          "traceback": [
            "\u001b[0;31m---------------------------------------------------------------------------\u001b[0m",
            "\u001b[0;31mNameError\u001b[0m                                 Traceback (most recent call last)",
            "\u001b[0;32m<ipython-input-63-48dfd93d3f23>\u001b[0m in \u001b[0;36m<module>\u001b[0;34m\u001b[0m\n\u001b[1;32m      1\u001b[0m \u001b[0msequence\u001b[0m\u001b[0;34m=\u001b[0m\u001b[0minput\u001b[0m\u001b[0;34m(\u001b[0m\u001b[0;34m\"enter the sequence:  \"\u001b[0m\u001b[0;34m)\u001b[0m\u001b[0;34m\u001b[0m\u001b[0;34m\u001b[0m\u001b[0m\n\u001b[0;32m----> 2\u001b[0;31m \u001b[0mseq\u001b[0m\u001b[0;34m=\u001b[0m\u001b[0msplit\u001b[0m\u001b[0;34m(\u001b[0m\u001b[0msequence\u001b[0m\u001b[0;34m,\u001b[0m \u001b[0;36m3\u001b[0m\u001b[0;34m)\u001b[0m\u001b[0;34m\u001b[0m\u001b[0;34m\u001b[0m\u001b[0m\n\u001b[0m\u001b[1;32m      3\u001b[0m \u001b[0mprint\u001b[0m\u001b[0;34m(\u001b[0m\u001b[0mseq\u001b[0m\u001b[0;34m)\u001b[0m\u001b[0;34m\u001b[0m\u001b[0;34m\u001b[0m\u001b[0m\n\u001b[1;32m      4\u001b[0m \u001b[0mcode\u001b[0m\u001b[0;34m=\u001b[0m\u001b[0minput\u001b[0m\u001b[0;34m(\u001b[0m\u001b[0;34m\"enter the code:  \"\u001b[0m\u001b[0;34m)\u001b[0m\u001b[0;34m\u001b[0m\u001b[0;34m\u001b[0m\u001b[0m\n\u001b[1;32m      5\u001b[0m \u001b[0mcount\u001b[0m\u001b[0;34m=\u001b[0m\u001b[0msequence\u001b[0m\u001b[0;34m.\u001b[0m\u001b[0mcount\u001b[0m\u001b[0;34m(\u001b[0m\u001b[0mcode\u001b[0m\u001b[0;34m)\u001b[0m\u001b[0;34m\u001b[0m\u001b[0;34m\u001b[0m\u001b[0m\n",
            "\u001b[0;31mNameError\u001b[0m: name 'split' is not defined"
          ]
        }
      ]
    },
    {
      "cell_type": "code",
      "source": [
        "sequence=input(\"Enter the Sequence:  \")\n",
        "sequence_list=[]\n",
        "while sequence:\n",
        "    sequence_list.append(sequence[:3])\n",
        "    sequence=sequence[3:]\n",
        "print(sequence_list)\n",
        "code=input(\"Enter the code:  \")\n",
        "count=sequence_list.count(code)\n",
        "print(count)\n"
      ],
      "metadata": {
        "id": "zsbVi3mu80vJ"
      },
      "execution_count": null,
      "outputs": []
    }
  ]
}