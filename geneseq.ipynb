{
  "nbformat": 4,
  "nbformat_minor": 0,
  "metadata": {
    "colab": {
      "provenance": []
    },
    "kernelspec": {
      "name": "python3",
      "display_name": "Python 3"
    },
    "language_info": {
      "name": "python"
    }
  },
  "cells": [
    {
      "cell_type": "code",
      "execution_count": 1,
      "metadata": {
        "colab": {
          "base_uri": "https://localhost:8080/"
        },
        "id": "0fX3X8eeQF8F",
        "outputId": "30ea0e5e-930f-4993-90ef-ae732f80da01"
      },
      "outputs": [
        {
          "output_type": "stream",
          "name": "stdout",
          "text": [
            "Enter the Sequence:  GTAGGAATCGCAGCGCCAGCGGTTGCAAGGCCCAAGAAGCCCATCCTGGGAAGGAAAATGCATTGGGGAA\n",
            "['GTA', 'GGA', 'ATC', 'GCA', 'GCG', 'CCA', 'GCG', 'GTT', 'GCA', 'AGG', 'CCC', 'AAG', 'AAG', 'CCC', 'ATC', 'CTG', 'GGA', 'AGG', 'AAA', 'ATG', 'CAT', 'TGG', 'GGA', 'A']\n",
            "Enter the code:  CCA\n",
            "1\n"
          ]
        }
      ],
      "source": [
        "sequence=input(\"Enter the Sequence:  \")\n",
        "sequence_list=[]\n",
        "while sequence:\n",
        "    sequence_list.append(sequence[:3])\n",
        "    sequence=sequence[3:]\n",
        "print(sequence_list)\n",
        "code=input(\"Enter the code:  \")\n",
        "count=sequence_list.count(code)\n",
        "print(count)"
      ]
    }
  ]
}